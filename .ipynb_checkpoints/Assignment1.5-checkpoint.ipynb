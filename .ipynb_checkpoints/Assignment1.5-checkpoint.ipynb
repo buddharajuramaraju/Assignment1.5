{
 "cells": [
  {
   "cell_type": "markdown",
   "metadata": {},
   "source": [
    "### Problem Statement\n",
    "\n",
    "Write a program which accepts a sequence of comma-separated numbers from console\n",
    "and generate a list."
   ]
  },
  {
   "cell_type": "code",
   "execution_count": 7,
   "metadata": {},
   "outputs": [
    {
     "name": "stdout",
     "output_type": "stream",
     "text": [
      "Please enter sequence of comma-separated numbers {Ex: 1,2,3,4,5}   101,202,303,404\n",
      "['101', '202', '303', '404']\n"
     ]
    }
   ],
   "source": [
    "input_sequence = input(\"Please enter sequence of comma-separated numbers {Ex: 1,2,3,4,5}   \") ## to get comma-separated number\n",
    "list = input_sequence.split(\",\")\n",
    "print(list)\n",
    "\n"
   ]
  },
  {
   "cell_type": "code",
   "execution_count": null,
   "metadata": {
    "collapsed": true
   },
   "outputs": [],
   "source": []
  }
 ],
 "metadata": {
  "kernelspec": {
   "display_name": "Python 3",
   "language": "python",
   "name": "python3"
  },
  "language_info": {
   "codemirror_mode": {
    "name": "ipython",
    "version": 3
   },
   "file_extension": ".py",
   "mimetype": "text/x-python",
   "name": "python",
   "nbconvert_exporter": "python",
   "pygments_lexer": "ipython3",
   "version": "3.6.3"
  }
 },
 "nbformat": 4,
 "nbformat_minor": 2
}
